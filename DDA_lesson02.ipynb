{
  "nbformat": 4,
  "nbformat_minor": 0,
  "metadata": {
    "colab": {
      "name": "DDA_lesson02.ipynb",
      "provenance": [],
      "authorship_tag": "ABX9TyMErgLOI/RiHz+9USn5U3Uc",
      "include_colab_link": true
    },
    "kernelspec": {
      "name": "python3",
      "display_name": "Python 3"
    }
  },
  "cells": [
    {
      "cell_type": "markdown",
      "metadata": {
        "id": "view-in-github",
        "colab_type": "text"
      },
      "source": [
        "<a href=\"https://colab.research.google.com/github/Shanukusai/data_analysis_algorithms/blob/main/DDA_lesson02.ipynb\" target=\"_parent\"><img src=\"https://colab.research.google.com/assets/colab-badge.svg\" alt=\"Open In Colab\"/></a>"
      ]
    },
    {
      "cell_type": "code",
      "metadata": {
        "id": "xEI00cLK40uX"
      },
      "source": [
        "import numpy as np\n",
        "from sklearn import datasets\n",
        "import matplotlib.pyplot as plt\n",
        "from sklearn.preprocessing import StandardScaler\n",
        "\n",
        "%matplotlib inline"
      ],
      "execution_count": 15,
      "outputs": []
    },
    {
      "cell_type": "markdown",
      "metadata": {
        "id": "f-MyOSPf7lUL"
      },
      "source": [
        "__1.__ Сгенерировать датасет при помощи sklearn.datasets.make_regression и обучить линейную модель при помощи градиентного и стохастического градиентного спуска. Нанести среднеквадратичную ошибку для обоих методов на один график, сделать выводы о разнице скорости сходимости каждого из методов."
      ]
    },
    {
      "cell_type": "code",
      "metadata": {
        "id": "a70xg0o753S8"
      },
      "source": [
        "data, target, coef = datasets.make_regression(n_samples=1000, n_features = 2, n_informative = 2, n_targets = 1, \n",
        "                                              noise = 5, coef = True, random_state = 3)"
      ],
      "execution_count": 16,
      "outputs": []
    },
    {
      "cell_type": "code",
      "metadata": {
        "id": "zS6B6TZ258IA"
      },
      "source": [
        "scaler = StandardScaler()"
      ],
      "execution_count": 17,
      "outputs": []
    },
    {
      "cell_type": "code",
      "metadata": {
        "id": "pXwDhJKb5_Gg"
      },
      "source": [
        "data = scaler.fit_transform(data)"
      ],
      "execution_count": 18,
      "outputs": []
    },
    {
      "cell_type": "code",
      "metadata": {
        "id": "sg0kXpRD6Cpw"
      },
      "source": [
        "def mserror(X, w, y_pred):\n",
        "    y = X.dot(w)\n",
        "    return (sum((y - y_pred)**2)) / len(y)"
      ],
      "execution_count": 19,
      "outputs": []
    },
    {
      "cell_type": "code",
      "metadata": {
        "id": "v2KXal1r6EsI"
      },
      "source": [
        "def learning_schedule(t, t_start = 1.):\n",
        "    return t_start / (t + t_start)"
      ],
      "execution_count": 20,
      "outputs": []
    },
    {
      "cell_type": "markdown",
      "metadata": {
        "id": "fVVlXeM06Gb0"
      },
      "source": [
        "### Стохастический градиентный спуск."
      ]
    },
    {
      "cell_type": "code",
      "metadata": {
        "id": "Wfw0-FOU6IzV",
        "outputId": "58acd493-0e16-4970-aada-748d9f86adf6",
        "colab": {
          "base_uri": "https://localhost:8080/"
        }
      },
      "source": [
        "w = np.zeros(2)\n",
        "w_list = [w.copy()]\n",
        "errors = []\n",
        "max_iter = 1e5\n",
        "#tol= 1e-6\n",
        "eta = 0.04\n",
        "weight_dist = np.inf\n",
        "iter_num = 0\n",
        "np.random.seed(1234)\n",
        "min_weight_dist = 1e-8\n",
        "\n",
        "#while iter_num < max_iter:\n",
        "while weight_dist > min_weight_dist and iter_num < max_iter:\n",
        "    \n",
        "    #eta = learning_schedule(iter_num+1)\n",
        "    train_ind = np.random.randint(data.shape[0])\n",
        "    new_w = w - 2 * eta * np.dot(data[train_ind].T, (np.dot(data[train_ind], w) - target[train_ind])) / target.shape[0]\n",
        "    weight_dist = np.linalg.norm(new_w - w, ord=2)\n",
        "    w_list.append(new_w.copy())\n",
        "    errors.append(mserror(data, new_w, target))   \n",
        "    iter_num += 1\n",
        "    w = new_w\n",
        "    #if iter_num > 2 and np.abs(errors[-1] - errors[-2]) < tol:\n",
        "        #break\n",
        "w_list = np.array(w_list)\n",
        "\n",
        "print(f'w = {w_list[-1]}, MSE = {round(errors[-1], 6)}')"
      ],
      "execution_count": 30,
      "outputs": [
        {
          "output_type": "stream",
          "text": [
            "w = [54.46193367 94.33160452], MSE = 29.809649\n"
          ],
          "name": "stdout"
        }
      ]
    },
    {
      "cell_type": "markdown",
      "metadata": {
        "id": "7TvE8m2v61RE"
      },
      "source": [
        "### Градиентный спуск"
      ]
    },
    {
      "cell_type": "code",
      "metadata": {
        "id": "AfR6kPQm63a2",
        "outputId": "9f662679-9fcb-46bc-ab57-6787e39192ab",
        "colab": {
          "base_uri": "https://localhost:8080/"
        }
      },
      "source": [
        "w = np.zeros(2)\n",
        "w_list1 = [w.copy()]\n",
        "errors1 = []\n",
        "max_iter = 1e4\n",
        "#tol= 1e-6\n",
        "weight_dist = np.inf\n",
        "iter_num = 0\n",
        "np.random.seed(1234)\n",
        "min_weight_dist = 1e-8\n",
        "eta = 0.1\n",
        "#while iter_num < max_iter:\n",
        "while weight_dist > min_weight_dist and iter_num < max_iter:\n",
        "    new_w = w - 2 * eta * np.dot(data.T, (np.dot(data, w) - target)) / target.shape[0]\n",
        "    weight_dist = np.linalg.norm(new_w - w, ord=2)\n",
        "    w_list1.append(new_w.copy())\n",
        "    errors1.append(mserror(data, new_w, target))\n",
        "    \n",
        "    iter_num += 1\n",
        "    w = new_w\n",
        "    #if iter_num > 2 and np.abs(errors[-1] - errors[-2]) < tol:\n",
        "        #break\n",
        "w_list1 = np.array(w_list1)\n",
        "\n",
        "print(f'w = {w_list1[-1]}, MSE = {round(errors1[-1], 4)}')"
      ],
      "execution_count": 22,
      "outputs": [
        {
          "output_type": "stream",
          "text": [
            "w = [54.93485657 95.12420775], MSE = 28.9597\n"
          ],
          "name": "stdout"
        }
      ]
    },
    {
      "cell_type": "code",
      "metadata": {
        "id": "pZ4KDGOx68uJ",
        "outputId": "d12f08c1-311b-4d9b-de52-108bcc760c90",
        "colab": {
          "base_uri": "https://localhost:8080/",
          "height": 369
        }
      },
      "source": [
        "fig, ax1 = plt.subplots(figsize=(10, 5))\n",
        "\n",
        "color = 'tab:red'\n",
        "ax1.set_xlabel('Iterations of Stochastic gradient descent', color=color)\n",
        "ax1.set_ylabel('MSE')\n",
        "ax1.plot(errors, color=color)\n",
        "ax1.tick_params(axis='x', labelcolor=color)\n",
        "\n",
        "ax2 = ax1.twiny()\n",
        "\n",
        "color = 'tab:blue'\n",
        "ax2.set_xlabel('Iterations of Gradient Descent', color=color)\n",
        "ax2.plot(errors1, color=color)\n",
        "ax2.tick_params(axis='x', labelcolor=color)\n",
        "\n",
        "fig.tight_layout()\n",
        "plt.show()\n"
      ],
      "execution_count": 31,
      "outputs": [
        {
          "output_type": "display_data",
          "data": {
            "image/png": "[encoded data removed]",
            "text/plain": [
              "<Figure size 720x360 with 2 Axes>"
            ]
          },
          "metadata": {
            "tags": [],
            "needs_background": "light"
          }
        }
      ]
    },
    {
      "cell_type": "markdown",
      "metadata": {
        "id": "em--ZhOD8Lw6"
      },
      "source": [
        "Из графика видно, что сходимость Градиентного спуска наступает на ~100 операции, а Стохастического градиентного спуска ~60000. Однако при значительном увеличении количества наблюдаемых данных время выполнения Стохастического градиентного спуска окажется быстрее."
      ]
    },
    {
      "cell_type": "markdown",
      "metadata": {
        "id": "ZszoP1xO7olL"
      },
      "source": [
        "__2.__ Модифицировать решение первого задания путем добавления 𝐿2 -регуляризации и сравнить результаты."
      ]
    },
    {
      "cell_type": "markdown",
      "metadata": {
        "id": "wUILDudE7wyq"
      },
      "source": [
        "### Стохастический градиентный спуск."
      ]
    },
    {
      "cell_type": "code",
      "metadata": {
        "id": "v67HvlpQ7zLt",
        "outputId": "c664b8d5-19df-4c7d-df16-1dd449c0f084",
        "colab": {
          "base_uri": "https://localhost:8080/"
        }
      },
      "source": [
        "w = np.zeros(2)\n",
        "w_list = [w.copy()]\n",
        "errors = []\n",
        "max_iter = 1e5\n",
        "#tol= 1e-6\n",
        "eta = 0.04\n",
        "weight_dist = np.inf\n",
        "iter_num = 0\n",
        "np.random.seed(1234)\n",
        "min_weight_dist = 1e-8\n",
        "lambda_ = 0.005\n",
        "\n",
        "#while iter_num < max_iter:\n",
        "while weight_dist > min_weight_dist and iter_num < max_iter:\n",
        "    \n",
        "    #eta = learning_schedule(iter_num+1)\n",
        "    train_ind = np.random.randint(data.shape[0])\n",
        "    new_w = w - 2 * eta * np.dot(data[train_ind].T, (np.dot(data[train_ind], w) - target[train_ind])) / target.shape[0]\n",
        "    weight_dist = np.linalg.norm(new_w - w, ord=2)\n",
        "    w_list.append(new_w.copy())\n",
        "    errors.append(mserror(data, new_w, target) + lambda_ * np.sum(np.square(new_w)))\n",
        "    \n",
        "    iter_num += 1\n",
        "    w = new_w\n",
        "    #if iter_num > 2 and np.abs(errors[-1] - errors[-2]) < tol:\n",
        "        #break\n",
        "w_list = np.array(w_list)\n",
        "\n",
        "print(f'w = {w_list[-1]}, MSE + L2-regularization= {round(errors[-1], 4)}')"
      ],
      "execution_count": 24,
      "outputs": [
        {
          "output_type": "stream",
          "text": [
            "w = [54.46193367 94.33160452], MSE + L2-regularization= 89.1324\n"
          ],
          "name": "stdout"
        }
      ]
    },
    {
      "cell_type": "markdown",
      "metadata": {
        "id": "yBju_RWe77ls"
      },
      "source": [
        "### Градиентный спуск"
      ]
    },
    {
      "cell_type": "code",
      "metadata": {
        "id": "wtbGLB3a7961",
        "outputId": "24284212-7189-478f-a60c-475005a49c34",
        "colab": {
          "base_uri": "https://localhost:8080/"
        }
      },
      "source": [
        "w = np.zeros(2)\n",
        "w_list1 = [w.copy()]\n",
        "errors1 = []\n",
        "max_iter = 1e4\n",
        "#tol= 1e-6\n",
        "weight_dist = np.inf\n",
        "iter_num = 0\n",
        "np.random.seed(1234)\n",
        "min_weight_dist = 1e-8\n",
        "eta = 0.1\n",
        "lambda_ = 0.005\n",
        "\n",
        "#while iter_num < max_iter:\n",
        "while weight_dist > min_weight_dist and iter_num < max_iter:\n",
        "    new_w = w - 2 * eta * np.dot(data.T, (np.dot(data, w) - target)) / target.shape[0]\n",
        "    weight_dist = np.linalg.norm(new_w - w, ord=2)\n",
        "    w_list1.append(new_w.copy())\n",
        "    errors1.append(mserror(data, new_w, target) + lambda_ * np.sum(np.square(new_w)))\n",
        "    \n",
        "    iter_num += 1\n",
        "    w = new_w\n",
        "    #if iter_num > 2 and np.abs(errors[-1] - errors[-2]) < tol:\n",
        "        #break\n",
        "w_list1 = np.array(w_list1)\n",
        "\n",
        "print(f'w = {w_list1[-1]}, MSE = {round(errors1[-1], 4)}')"
      ],
      "execution_count": 25,
      "outputs": [
        {
          "output_type": "stream",
          "text": [
            "w = [54.93485657 95.12420775], MSE = 89.2919\n"
          ],
          "name": "stdout"
        }
      ]
    },
    {
      "cell_type": "markdown",
      "metadata": {
        "id": "6EJKPV3w8EbZ"
      },
      "source": [
        "При увеличении значения lambda - увеличивается разброс метрики ошибки. Также введение L2 регуляризации замеляет сходимость Стохастического градиентного спуска."
      ]
    }
  ]
}