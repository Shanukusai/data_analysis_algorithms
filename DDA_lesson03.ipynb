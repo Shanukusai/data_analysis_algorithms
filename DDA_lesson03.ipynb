{
  "nbformat": 4,
  "nbformat_minor": 0,
  "metadata": {
    "colab": {
      "name": "DDA_lesson03.ipynb",
      "provenance": [],
      "collapsed_sections": [],
      "authorship_tag": "ABX9TyNoMW693nyIca/48HUg2Kez",
      "include_colab_link": true
    },
    "kernelspec": {
      "name": "python3",
      "display_name": "Python 3"
    }
  },
  "cells": [
    {
      "cell_type": "markdown",
      "metadata": {
        "id": "view-in-github",
        "colab_type": "text"
      },
      "source": [
        "<a href=\"https://colab.research.google.com/github/Shanukusai/data_analysis_algorithms/blob/main/DDA_lesson03.ipynb\" target=\"_parent\"><img src=\"https://colab.research.google.com/assets/colab-badge.svg\" alt=\"Open In Colab\"/></a>"
      ]
    },
    {
      "cell_type": "code",
      "metadata": {
        "id": "xFgZieInDGmo"
      },
      "source": [
        "import numpy as np\n",
        "import matplotlib.pyplot as plt\n",
        "\n",
        "from time import time\n",
        "from IPython.display import clear_output"
      ],
      "execution_count": 3,
      "outputs": []
    },
    {
      "cell_type": "code",
      "metadata": {
        "id": "DMfe2_gFCayC"
      },
      "source": [
        "\n",
        "def calc_std_feat(x):\n",
        "    res = (x - x.mean()) / x.std()\n",
        "    return res"
      ],
      "execution_count": 4,
      "outputs": []
    },
    {
      "cell_type": "code",
      "metadata": {
        "id": "rTo9g-Z5EDTM"
      },
      "source": [
        "X = np.array([[1, 1, 1, 1, 1, 1, 1, 1, 1, 1],\n",
        "              [1, 1, 2, 5, 3, 0, 5, 10, 1, 2],\n",
        "              [500, 700, 750, 600, 1450, 800, 1500, 2000, 450, 1000],\n",
        "              [1, 1, 2, 1, 2,  1, 3, 3, 1, 2]], dtype = np.float64)\n",
        "y = np.array([0, 0, 1, 0, 1, 0, 1, 0, 1, 1], dtype = np.float64)\n",
        "\n",
        "X_st = X.copy()\n",
        "X_st[2, :] = calc_std_feat(X[2, :])"
      ],
      "execution_count": 5,
      "outputs": []
    },
    {
      "cell_type": "markdown",
      "metadata": {
        "id": "VZKeSz7SEKzm"
      },
      "source": [
        "__1.__ Измените функцию calc_logloss так, чтобы нули по возможности не попадали в np.log."
      ]
    },
    {
      "cell_type": "code",
      "metadata": {
        "id": "_ghZ1fapENMV"
      },
      "source": [
        "def calc_logloss(y, y_pred):\n",
        "    err = - np.mean(y * np.log(y_pred) + (1.0 - y) * np.log(1.0 - y_pred))\n",
        "    err = np.sum(err)\n",
        "    return err"
      ],
      "execution_count": 6,
      "outputs": []
    },
    {
      "cell_type": "markdown",
      "metadata": {
        "id": "KFSU_QotEXgv"
      },
      "source": [
        "__2.__ Подберите аргументы функции eval_model для логистической регрессии таким образом, чтобы log loss был минимальным."
      ]
    },
    {
      "cell_type": "code",
      "metadata": {
        "id": "6M5-J8GVEaNm"
      },
      "source": [
        "def sigmoid(z):\n",
        "    res = 1 / (1 + np.exp(-z))\n",
        "    return res"
      ],
      "execution_count": 8,
      "outputs": []
    },
    {
      "cell_type": "code",
      "metadata": {
        "id": "79CNiB6MEe6f"
      },
      "source": [
        "def eval_model(X, y, iterations, alpha):\n",
        "    np.random.seed(42)\n",
        "    W = np.random.randn(X.shape[0])\n",
        "    n = X.shape[1]\n",
        "    for i in range(1, iterations + 1):\n",
        "        z = np.dot(W, X)\n",
        "        y_pred = sigmoid(z)\n",
        "        err = calc_logloss(y, y_pred)\n",
        "        W -= alpha * (1 / n * np.dot((y_pred - y), X.T))\n",
        "        \n",
        "    return W, err"
      ],
      "execution_count": 9,
      "outputs": []
    },
    {
      "cell_type": "code",
      "metadata": {
        "id": "q5IaG_SnEfK2",
        "outputId": "90b052ca-53a3-4328-ea5a-5a7b4298d51b",
        "colab": {
          "base_uri": "https://localhost:8080/"
        }
      },
      "source": [
        "iter_alpha_err_time = []\n",
        "\n",
        "for i in range(1000, 20000, 100):        \n",
        "    for alpha in [10 ** d for d in range(-10, 0, 1)]:\n",
        "        start = time()\n",
        "        W, err = eval_model(X_st, y, i, alpha)  \n",
        "        time_interval = time() - start\n",
        "        \n",
        "        iter_alpha_err_time.append([i, alpha, err, time_interval])\n",
        "        \n",
        "        clear_output(wait=True)\n",
        "        \n",
        "        print('iteration\\talpha\\terror\\t\\t\\ttime')\n",
        "        print(f'{i}\\t\\t{alpha}\\t{err}\\t{time_interval}')"
      ],
      "execution_count": 10,
      "outputs": [
        {
          "output_type": "stream",
          "text": [
            "iteration\talpha\terror\t\t\ttime\n",
            "19900\t\t0.1\t0.19372038477270054\t0.7716307640075684\n"
          ],
          "name": "stdout"
        }
      ]
    },
    {
      "cell_type": "code",
      "metadata": {
        "id": "4Gbfh751EhV_",
        "outputId": "33ca83d3-4b2c-4ce2-919e-8bc2709c3629",
        "colab": {
          "base_uri": "https://localhost:8080/"
        }
      },
      "source": [
        "ten_min_err_params = sorted(iter_alpha_err_time, key=lambda row: row[2])[:11]\n",
        "\n",
        "print('iteration\\talpha\\terror\\t\\t\\ttime')\n",
        "for row in ten_min_err_params:\n",
        "    print(f'{row[0]}\\t\\t{row[1]}\\t{row[2]}\\t{row[3]}')"
      ],
      "execution_count": 11,
      "outputs": [
        {
          "output_type": "stream",
          "text": [
            "iteration\talpha\terror\t\t\ttime\n",
            "19900\t\t0.1\t0.19372038477270054\t0.7716307640075684\n",
            "19800\t\t0.1\t0.19400727316663885\t0.7946672439575195\n",
            "19700\t\t0.1\t0.1942956007663646\t0.7100670337677002\n",
            "19600\t\t0.1\t0.1945853797194227\t1.324263572692871\n",
            "19500\t\t0.1\t0.1948766223423771\t0.709251880645752\n",
            "19400\t\t0.1\t0.19516934112450773\t0.8176782131195068\n",
            "19300\t\t0.1\t0.19546354873161242\t0.7550241947174072\n",
            "19200\t\t0.1\t0.1957592580099285\t0.7267436981201172\n",
            "19100\t\t0.1\t0.19605648199016773\t0.7515401840209961\n",
            "19000\t\t0.1\t0.19635523389167653\t1.2503023147583008\n",
            "18900\t\t0.1\t0.19665552712672207\t1.2380216121673584\n"
          ],
          "name": "stdout"
        }
      ]
    },
    {
      "cell_type": "code",
      "metadata": {
        "id": "wfMfmuDkI0Cw",
        "outputId": "d1ea1081-dd64-465d-f01b-8b4ff3b556e6",
        "colab": {
          "base_uri": "https://localhost:8080/"
        }
      },
      "source": [
        "# Инициализация весов, дающих минимальную ошибку\n",
        "iterations, alpha, _, __ = ten_min_err_params[0]\n",
        "W, err = eval_model(X_st, y, iterations, alpha)\n",
        "\n",
        "print(W)"
      ],
      "execution_count": 12,
      "outputs": [
        {
          "output_type": "stream",
          "text": [
            "[-15.38680533  -1.7778509   -3.81676861  12.88454344]\n"
          ],
          "name": "stdout"
        }
      ]
    },
    {
      "cell_type": "markdown",
      "metadata": {
        "id": "1WnTj6HaI8cO"
      },
      "source": [
        "__3.__ Создайте функцию calc_pred_proba, возвращающую предсказанную вероятность класса 1 (на вход подаются W, который уже посчитан функцией eval_model и X, на выходе - массив y_pred_proba)."
      ]
    },
    {
      "cell_type": "code",
      "metadata": {
        "id": "58iiPGq2I97H"
      },
      "source": [
        "def calc_pred_proba(W, X):\n",
        "\n",
        "    m = X.shape[1]    \n",
        "    W = W.reshape(X.shape[0], 1)\n",
        "    \n",
        "    y_pred_proba = sigmoid(np.dot(W.T, X))[0]\n",
        "    \n",
        "    return y_pred_proba"
      ],
      "execution_count": 13,
      "outputs": []
    },
    {
      "cell_type": "code",
      "metadata": {
        "id": "hh8Ydp-cJDvw",
        "outputId": "ccdafc4c-b664-4989-db2b-10b06febfdac",
        "colab": {
          "base_uri": "https://localhost:8080/"
        }
      },
      "source": [
        "y_pred_proba = [round(p, 2) for p in calc_pred_proba(W, X_st)]\n",
        "\n",
        "y_pred_proba"
      ],
      "execution_count": 14,
      "outputs": [
        {
          "output_type": "execute_result",
          "data": {
            "text/plain": [
              "[0.37, 0.11, 1.0, 0.0, 0.79, 0.25, 1.0, 0.07, 0.46, 1.0]"
            ]
          },
          "metadata": {
            "tags": []
          },
          "execution_count": 14
        }
      ]
    },
    {
      "cell_type": "markdown",
      "metadata": {
        "id": "0_2BggZuJHbm"
      },
      "source": [
        "__4.__ Создайте функцию calc_pred, возвращающую предсказанный класс (на вход подаются W, который уже посчитан функцией eval_model и X, на выходе - массив y_pred)."
      ]
    },
    {
      "cell_type": "code",
      "metadata": {
        "id": "gQkrV1nTJJhW"
      },
      "source": [
        "def calc_pred(W, X, threshold):\n",
        "    \n",
        "    y_pred_proba = calc_pred_proba(W, X)\n",
        "    \n",
        "    y_pred = [int(p >= threshold) for p in y_pred_proba]\n",
        "    \n",
        "    return y_pred"
      ],
      "execution_count": 15,
      "outputs": []
    },
    {
      "cell_type": "code",
      "metadata": {
        "id": "SjQNWx6xJPye"
      },
      "source": [
        "# Определение предсказанных значений\n",
        "y_pred = calc_pred(W, X_st, 0.5)"
      ],
      "execution_count": 16,
      "outputs": []
    },
    {
      "cell_type": "markdown",
      "metadata": {
        "id": "ipNZzIm3JV7F"
      },
      "source": [
        "__5.__ Посчитайте Accuracy, матрицу ошибок, точность и полноту, а также F1 score."
      ]
    },
    {
      "cell_type": "code",
      "metadata": {
        "id": "rSjcLEqCJXFW"
      },
      "source": [
        "m = len(y_pred)\n",
        "indexes = range(0, m)\n",
        "\n",
        "# Accuracy\n",
        "accuracy = sum(y_pred[i] == y[i] for i in indexes) / m\n",
        "\n",
        "# Матрица ошибок\n",
        "TP = sum(y_pred[i] == 1 and y[i] == 1 for i in indexes)\n",
        "FP = sum(y_pred[i] == 1 and y[i] == 0 for i in indexes)\n",
        "\n",
        "FN = sum(y_pred[i] == 0 and y[i] == 1 for i in indexes)\n",
        "TN = sum(y_pred[i] == 0 and y[i] == 0 for i in indexes)\n",
        "\n",
        "# Точность и полнота\n",
        "precision = TP / (TP + FP)\n",
        "recall = TP / (TP + FN)\n",
        "\n",
        "# F-мера\n",
        "F_metric = lambda p, r, b: (1 + b ** 2) * (precision * recall) / (b ** 2 * precision + recall)\n",
        "F1 = F_metric(precision, recall, 1)"
      ],
      "execution_count": 17,
      "outputs": []
    },
    {
      "cell_type": "code",
      "metadata": {
        "id": "bH04oTHjJaQ9",
        "outputId": "29e97c60-33e3-4166-fd26-86de4258f9c0",
        "colab": {
          "base_uri": "https://localhost:8080/"
        }
      },
      "source": [
        "print(f'''\n",
        "\n",
        "y:\\t{y}\n",
        "y_pred:\\t{y_pred}\n",
        "\n",
        "Матрица ошибок\n",
        "\\t\\ty = +1\\t\\ty = -1\n",
        "a(x) = +1\\t{TP}\\t\\t{FP}\n",
        "a(x) = -1\\t{FN}\\t\\t{TN}\n",
        "\n",
        "Accuracy = {accuracy}\n",
        "Точность = {precision}\n",
        "Полнота = {recall}\n",
        "F-мера с весом 1 = {F1:.2f}\n",
        "''')"
      ],
      "execution_count": 18,
      "outputs": [
        {
          "output_type": "stream",
          "text": [
            "\n",
            "\n",
            "y:\t[0. 0. 1. 0. 1. 0. 1. 0. 1. 1.]\n",
            "y_pred:\t[0, 0, 1, 0, 1, 0, 1, 0, 0, 1]\n",
            "\n",
            "Матрица ошибок\n",
            "\t\ty = +1\t\ty = -1\n",
            "a(x) = +1\t4\t\t0\n",
            "a(x) = -1\t1\t\t5\n",
            "\n",
            "Accuracy = 0.9\n",
            "Точность = 1.0\n",
            "Полнота = 0.8\n",
            "F-мера с весом 1 = 0.89\n",
            "\n"
          ],
          "name": "stdout"
        }
      ]
    },
    {
      "cell_type": "markdown",
      "metadata": {
        "id": "zZ3TNVRhJ3kl"
      },
      "source": [
        "__6.__ Могла ли модель переобучиться? Почему?"
      ]
    },
    {
      "cell_type": "markdown",
      "metadata": {
        "id": "1DYEZ0D-J7d1"
      },
      "source": [
        "Модель переобучилась из-за большого последнего веса. Это случилось по причине малого количества данных."
      ]
    }
  ]
}