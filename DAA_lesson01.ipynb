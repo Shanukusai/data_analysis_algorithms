{
  "nbformat": 4,
  "nbformat_minor": 0,
  "metadata": {
    "colab": {
      "name": "DAA_lesson01.ipynb",
      "provenance": [],
      "collapsed_sections": [],
      "authorship_tag": "ABX9TyNC0KNdLtykB4pTDHitATdA"
    },
    "kernelspec": {
      "name": "python3",
      "display_name": "Python 3"
    }
  },
  "cells": [
    {
      "cell_type": "code",
      "metadata": {
        "id": "te7z2WIQMpfn"
      },
      "source": [
        "import numpy as np\n",
        "import matplotlib.pyplot as plt"
      ],
      "execution_count": 90,
      "outputs": []
    },
    {
      "cell_type": "code",
      "metadata": {
        "id": "TwQ0iKhnOPrj"
      },
      "source": [
        "np.random.seed(1234)"
      ],
      "execution_count": 109,
      "outputs": []
    },
    {
      "cell_type": "code",
      "metadata": {
        "id": "EIaCNXHPOWy5"
      },
      "source": [
        "# Возьмем 2 признака и 1000 объектов\n",
        "n_features = 2\n",
        "n_objects = 1000\n",
        "\n",
        "# сгенерируем вектор истинных весов\n",
        "w_true = np.random.normal(size=(n_features, ))\n",
        "\n",
        "# сгенерируем матрицу X, вычислим Y с добавлением случайного шума\n",
        "X = np.random.uniform(-7, 7, (n_objects, n_features))\n",
        "Y = X.dot(w_true) + np.random.normal(0, 0.5, size=(n_objects))\n",
        "\n",
        "# возьмем нулевые начальные веса\n",
        "w = np.zeros(n_features)"
      ],
      "execution_count": 110,
      "outputs": []
    },
    {
      "cell_type": "code",
      "metadata": {
        "id": "C6rAwPaHPeUS"
      },
      "source": [
        "# реализуем функцию, определяющую среднеквадратичную ошибку\n",
        "def mserror(X, w, y_pred):\n",
        "    y = X.dot(w)\n",
        "    return (sum((y - y_pred)**2)) / len(y)"
      ],
      "execution_count": 111,
      "outputs": []
    },
    {
      "cell_type": "code",
      "metadata": {
        "id": "l2aDItQNGL91",
        "outputId": "e8ecd535-f006-42ed-a133-1d785dcab213",
        "colab": {
          "base_uri": "https://localhost:8080/"
        }
      },
      "source": [
        "def normal_equation(X, y):\n",
        "    return np.linalg.solve((X.T).dot(X), (X.T).dot(y))\n",
        "\n",
        "normal_eq_w = normal_equation(X, Y)\n",
        "print(f'В случае использования нормального уравнения функционал ошибки составляет {round(mserror(X, normal_eq_w, Y), 4)}')"
      ],
      "execution_count": 112,
      "outputs": [
        {
          "output_type": "stream",
          "text": [
            "В случае использования нормального уравнения функционал ошибки составляет 0.2413\n"
          ],
          "name": "stdout"
        }
      ]
    },
    {
      "cell_type": "markdown",
      "metadata": {
        "id": "_EwPz26XMVnF"
      },
      "source": [
        "# Урок 1. Алгоритм линейной регрессии. Градиентный спуск"
      ]
    },
    {
      "cell_type": "markdown",
      "metadata": {
        "id": "itAVRJ0qMFjl"
      },
      "source": [
        "__Задача 1:__ Подберите скорость обучения (alpha) и количество итераций."
      ]
    },
    {
      "cell_type": "code",
      "metadata": {
        "id": "N9XWXU_WlYkF",
        "outputId": "2c9fd62d-590b-4114-efb9-550290da44d6",
        "colab": {
          "base_uri": "https://localhost:8080/"
        }
      },
      "source": [
        "# список векторов весов после каждой итерации\n",
        "w_list = [w.copy()]\n",
        "\n",
        "# список значений ошибок после каждой итерации\n",
        "errors = []\n",
        "\n",
        "# шаг градиентного спуска\n",
        "eta = 0.01\n",
        "\n",
        "# максимальное число итераций\n",
        "max_iter = 1e4\n",
        "\n",
        "# критерий сходимости (разница весов, при которой алгоритм останавливается)\n",
        "min_weight_dist = 1e-8\n",
        "\n",
        "# зададим начальную разницу весов большим числом\n",
        "weight_dist = np.inf\n",
        "\n",
        "# счетчик итераций\n",
        "iter_num = 0\n",
        "\n",
        "# ход градиентного спуска\n",
        "while weight_dist > min_weight_dist and iter_num < max_iter:\n",
        "    new_w = w - 2 * eta * np.dot(X.T, (np.dot(X, w) - Y)) / Y.shape[0]\n",
        "    weight_dist = np.linalg.norm(new_w - w, ord=2)\n",
        "    \n",
        "    w_list.append(new_w.copy())\n",
        "    errors.append(mserror(X, new_w, Y))\n",
        "    \n",
        "    iter_num += 1\n",
        "    w = new_w\n",
        "    \n",
        "w_list = np.array(w_list)\n",
        "\n",
        "print(f'В случае использования градиентного спуска функционал ошибки составляет {errors[-1]}, {iter_num}')"
      ],
      "execution_count": 113,
      "outputs": [
        {
          "output_type": "stream",
          "text": [
            "В случае использования градиентного спуска функционал ошибки составляет 0.24134031121139154, 47\n"
          ],
          "name": "stdout"
        }
      ]
    },
    {
      "cell_type": "code",
      "metadata": {
        "id": "KJ_S17NaGS18",
        "outputId": "7b450f0d-d019-404b-c67f-19fb0f98d29a",
        "colab": {
          "base_uri": "https://localhost:8080/"
        }
      },
      "source": [
        "# список векторов весов после каждой итерации\n",
        "w_list = [w.copy()]\n",
        "\n",
        "# список значений ошибок после каждой итерации\n",
        "errors = []\n",
        "\n",
        "# шаг градиентного спуска\n",
        "# eta = 0.01\n",
        "\n",
        "# зададим начальную разницу весов большим числом\n",
        "weight_dist = np.inf\n",
        "\n",
        "min_err = 1\n",
        "step = 0\n",
        "min_eta = None\n",
        "min_step = None\n",
        "\n",
        "# ход градиентного спуска\n",
        "\n",
        "for alpha in range(9):\n",
        "  w = np.zeros(n_features)\n",
        "  weight_dist = np.inf\n",
        "  for iteration in range(100):\n",
        "    eta = (alpha+1)/100\n",
        "    new_w = w - 2 * eta * np.dot(X.T, (np.dot(X, w) - Y)) / Y.shape[0]\n",
        "    weight_dist = np.linalg.norm(new_w - w, ord=2)\n",
        "    w_list.append(new_w.copy())\n",
        "    errors.append(mserror(X, new_w, Y))\n",
        "    w = new_w\n",
        "    step = step + 1\n",
        "    # print(step,eta ,mserror(X, new_w, Y))\n",
        "    if min_err>mserror(X, new_w, Y):\n",
        "      min_err = mserror(X, new_w, Y)\n",
        "      min_eta = eta\n",
        "      min_step = step\n",
        "    \n",
        "min_step, min_eta, min_err"
      ],
      "execution_count": 114,
      "outputs": [
        {
          "output_type": "execute_result",
          "data": {
            "text/plain": [
              "(337, 0.04, 0.24134031121138597)"
            ]
          },
          "metadata": {
            "tags": []
          },
          "execution_count": 114
        }
      ]
    },
    {
      "cell_type": "markdown",
      "metadata": {
        "id": "ppbvLx0aMKWD"
      },
      "source": [
        "__Задача 2 (опция):__ В этом коде мы избавляемся от итераций по весам, но тут есть ошибка, исправьте ее:"
      ]
    },
    {
      "cell_type": "code",
      "metadata": {
        "id": "HH8EZp2ZR_kQ"
      },
      "source": [
        "n = X.shape[1]\n",
        "alpha = 1e-2\n",
        "W = np.array([1, 0.5])\n",
        "\n",
        "for i in range(1000):\n",
        "  y_pred = np.dot(W, X)\n",
        "  err = calc_mse(y, y_pred)\n",
        "  W -= (alpha * (1/n * 2 * X @ (y_pred - y))) #W -= (alpha * (1/n * 2 * np.sum(X * (y_pred - y))))\n",
        "  if i % 100 == 0:\n",
        "    print(i, W, err)"
      ],
      "execution_count": null,
      "outputs": []
    }
  ]
}